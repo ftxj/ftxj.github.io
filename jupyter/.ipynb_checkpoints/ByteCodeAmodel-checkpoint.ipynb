{
 "cells": [
  {
   "cell_type": "markdown",
   "id": "fb24a273",
   "metadata": {},
   "source": [
    "Python ByteCode的行为模型解释"
   ]
  },
  {
   "cell_type": "code",
   "execution_count": 1,
   "id": "0ef8630a",
   "metadata": {},
   "outputs": [],
   "source": [
    "def fn():\n",
    "    a = 3\n",
    "    b = 4\n",
    "    return a + b"
   ]
  },
  {
   "cell_type": "code",
   "execution_count": 3,
   "id": "080f2b77",
   "metadata": {},
   "outputs": [
    {
     "name": "stdout",
     "output_type": "stream",
     "text": [
      "  2           0 LOAD_CONST               1 (3)\n",
      "              2 STORE_FAST               0 (a)\n",
      "\n",
      "  3           4 LOAD_CONST               2 (4)\n",
      "              6 STORE_FAST               1 (b)\n",
      "\n",
      "  4           8 LOAD_FAST                0 (a)\n",
      "             10 LOAD_FAST                1 (b)\n",
      "             12 BINARY_ADD\n",
      "             14 RETURN_VALUE\n"
     ]
    }
   ],
   "source": [
    "import dis\n",
    "code = dis.dis(fn)"
   ]
  },
  {
   "cell_type": "code",
   "execution_count": 11,
   "id": "69891a72",
   "metadata": {},
   "outputs": [
    {
     "data": {
      "application/javascript": [
       "IPython.notebook.kernel.execute('nb_name = \"' + IPython.notebook.notebook_name + '\"')\n"
      ],
      "text/plain": [
       "<IPython.core.display.Javascript object>"
      ]
     },
     "metadata": {},
     "output_type": "display_data"
    }
   ],
   "source": [
    "%%javascript\n",
    "IPython.notebook.kernel.execute('nb_name = \"' + IPython.notebook.notebook_name + '\"')"
   ]
  },
  {
   "cell_type": "code",
   "execution_count": 13,
   "id": "b7925035",
   "metadata": {},
   "outputs": [],
   "source": [
    "import os\n",
    "nb_full_path = os.path.join(os.getcwd(), nb_name)"
   ]
  },
  {
   "cell_type": "code",
   "execution_count": 14,
   "id": "6d0fd317",
   "metadata": {},
   "outputs": [
    {
     "data": {
      "text/plain": [
       "'/ftxj.github.io/jupyter/ByteCodeAmodel.ipynb'"
      ]
     },
     "execution_count": 14,
     "metadata": {},
     "output_type": "execute_result"
    }
   ],
   "source": [
    "nb_full_path"
   ]
  },
  {
   "cell_type": "code",
   "execution_count": 22,
   "id": "bc7aa680",
   "metadata": {},
   "outputs": [],
   "source": [
    "from IPython.display import Javascript, display"
   ]
  },
  {
   "cell_type": "code",
   "execution_count": 26,
   "id": "825e8362",
   "metadata": {},
   "outputs": [],
   "source": [
    "js = '''IPython.notebook.kernel.execute('__file__ = \"' + IPython.notebook.notebookname + '\"')'''"
   ]
  },
  {
   "cell_type": "code",
   "execution_count": 27,
   "id": "ecc6eab6",
   "metadata": {},
   "outputs": [
    {
     "data": {
      "application/javascript": [
       "IPython.notebook.kernel.execute('__file__ = \"' + IPython.notebook.notebookname + '\"')"
      ],
      "text/plain": [
       "<IPython.core.display.Javascript object>"
      ]
     },
     "execution_count": 27,
     "metadata": {},
     "output_type": "execute_result"
    }
   ],
   "source": [
    "Javascript(js)"
   ]
  },
  {
   "cell_type": "code",
   "execution_count": 28,
   "id": "8d8a974f",
   "metadata": {},
   "outputs": [],
   "source": [
    "import os\n",
    "nb_full_path = os.path.join(os.getcwd(), __file__)"
   ]
  },
  {
   "cell_type": "code",
   "execution_count": 29,
   "id": "a167c2d4",
   "metadata": {},
   "outputs": [
    {
     "data": {
      "text/plain": [
       "'/ftxj.github.io/jupyter/undefined'"
      ]
     },
     "execution_count": 29,
     "metadata": {},
     "output_type": "execute_result"
    }
   ],
   "source": [
    "nb_full_path"
   ]
  },
  {
   "cell_type": "code",
   "execution_count": null,
   "id": "cd1b8ec0",
   "metadata": {},
   "outputs": [],
   "source": []
  }
 ],
 "metadata": {
  "kernelspec": {
   "display_name": "Python 3 (ipykernel)",
   "language": "python",
   "name": "python3"
  },
  "language_info": {
   "codemirror_mode": {
    "name": "ipython",
    "version": 3
   },
   "file_extension": ".py",
   "mimetype": "text/x-python",
   "name": "python",
   "nbconvert_exporter": "python",
   "pygments_lexer": "ipython3",
   "version": "3.8.10"
  }
 },
 "nbformat": 4,
 "nbformat_minor": 5
}
