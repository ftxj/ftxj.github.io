{
 "cells": [
  {
   "cell_type": "markdown",
   "id": "4b7ad6f9",
   "metadata": {},
   "source": [
    "Python ByteCode的行为模型解释"
   ]
  },
  {
   "cell_type": "code",
   "execution_count": 1,
   "id": "eb18092d",
   "metadata": {},
   "outputs": [],
   "source": [
    "def fn():\n",
    "    a = 3\n",
    "    b = 4\n",
    "    return a + b"
   ]
  },
  {
   "cell_type": "code",
   "execution_count": 2,
   "id": "2b4f7459",
   "metadata": {},
   "outputs": [
    {
     "name": "stdout",
     "output_type": "stream",
     "text": [
      "  2           0 LOAD_CONST               1 (3)\n",
      "              2 STORE_FAST               0 (a)\n",
      "\n",
      "  3           4 LOAD_CONST               2 (4)\n",
      "              6 STORE_FAST               1 (b)\n",
      "\n",
      "  4           8 LOAD_FAST                0 (a)\n",
      "             10 LOAD_FAST                1 (b)\n",
      "             12 BINARY_ADD\n",
      "             14 RETURN_VALUE\n"
     ]
    }
   ],
   "source": [
    "import dis\n",
    "code = dis.dis(fn)"
   ]
  },
  {
   "cell_type": "code",
   "execution_count": 4,
   "id": "f71a750e",
   "metadata": {},
   "outputs": [],
   "source": [
    "import jupyter_runtime"
   ]
  },
  {
   "cell_type": "code",
   "execution_count": 20,
   "id": "cf73997f",
   "metadata": {},
   "outputs": [],
   "source": [
    "import os\n",
    "from IPython.display import Javascript, display\n",
    "\n",
    "def initialize_jupyter_runtime():\n",
    "    js = '''IPython.notebook.kernel.execute('jupyter__file2 = \"' + IPython.notebook.notebook_name + '\"')'''\n",
    "    x = Javascript(js)\n",
    "    \n",
    "\n",
    "x =initialize_jupyter_runtime()"
   ]
  },
  {
   "cell_type": "code",
   "execution_count": 21,
   "id": "308bc5a4",
   "metadata": {},
   "outputs": [
    {
     "ename": "NameError",
     "evalue": "name 'jupyter__file2' is not defined",
     "output_type": "error",
     "traceback": [
      "\u001b[0;31m---------------------------------------------------------------------------\u001b[0m",
      "\u001b[0;31mNameError\u001b[0m                                 Traceback (most recent call last)",
      "Cell \u001b[0;32mIn[21], line 2\u001b[0m\n\u001b[1;32m      1\u001b[0m \u001b[38;5;28;01mimport\u001b[39;00m \u001b[38;5;21;01mos\u001b[39;00m\n\u001b[0;32m----> 2\u001b[0m full_name \u001b[38;5;241m=\u001b[39m os\u001b[38;5;241m.\u001b[39mpath\u001b[38;5;241m.\u001b[39mjoin(os\u001b[38;5;241m.\u001b[39mgetcwd(), \u001b[43mjupyter__file2\u001b[49m)\n",
      "\u001b[0;31mNameError\u001b[0m: name 'jupyter__file2' is not defined"
     ]
    }
   ],
   "source": [
    "import os\n",
    "full_name = os.path.join(os.getcwd(), jupyter__file2)"
   ]
  },
  {
   "cell_type": "code",
   "execution_count": null,
   "id": "8f8dcab5",
   "metadata": {},
   "outputs": [],
   "source": []
  }
 ],
 "metadata": {
  "kernelspec": {
   "display_name": "Python 3 (ipykernel)",
   "language": "python",
   "name": "python3"
  },
  "language_info": {
   "codemirror_mode": {
    "name": "ipython",
    "version": 3
   },
   "file_extension": ".py",
   "mimetype": "text/x-python",
   "name": "python",
   "nbconvert_exporter": "python",
   "pygments_lexer": "ipython3",
   "version": "3.8.10"
  }
 },
 "nbformat": 4,
 "nbformat_minor": 5
}
